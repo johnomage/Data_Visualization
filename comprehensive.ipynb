{
 "cells": [
  {
   "cell_type": "markdown",
   "metadata": {
    "id": "NmRRU0mpUbWV"
   },
   "source": [
    "# Data Visualisation Report for ChrisCo"
   ]
  },
  {
   "cell_type": "markdown",
   "metadata": {
    "id": "XT_KIrZRUiwo"
   },
   "source": [
    "## Detailed specification"
   ]
  },
  {
   "cell_type": "markdown",
   "metadata": {
    "id": "7hIQ1lYyUVYa"
   },
   "source": [
    "To carry out a visual data exploration for ChrisCo, the fictional company whose sales and website data we have been analysing throughout the module, using a Python Notebook (in Colab or Jupyter).\n",
    "ChrisCo is a fictional, but nonetheless very successful company managing a range of retail outlets across the UK. ChrisCo collects a huge amount of data about individual customers visiting its outlets using its loyalty card scheme but this customer data has been aggregated/averaged to give information about the company’s 45 outlets, each identified by a unique 3 letter code (e.g. ABC, XYZ, etc)."
   ]
  },
  {
   "cell_type": "markdown",
   "metadata": {
    "id": "WS0LhE2bUm7r"
   },
   "source": [
    "### Data Sources"
   ]
  },
  {
   "cell_type": "markdown",
   "metadata": {
    "id": "y5xetxm4Uxll"
   },
   "source": [
    "The data for this report are available at the following locations:\n",
    "\n",
    "- [Customer Visits per day](https://tinyurl.com/ChrisCoDV/001207659/OutletDailyCustomers.csv)\n",
    "\n",
    "- [Total annual spend on local Marketing](https://tinyurl.com/ChrisCoDV/001207659/OutletMarketing.csv)\n",
    "- [Total annual overhead cost per outlet](https://tinyurl.com/ChrisCoDV/001207659/OutletOverheads.csv)\n",
    "- [Outlet size per squared meter](https://tinyurl.com/ChrisCoDV/001207659/OutletSize.csv)\n",
    "- [Staff count per outlet](https://tinyurl.com/ChrisCoDV/001207659/OutletStaff.csv)"
   ]
  },
  {
   "cell_type": "markdown",
   "metadata": {
    "id": "yERVJCHObMz6"
   },
   "source": [
    "## Preparing Data for Exploration"
   ]
  },
  {
   "cell_type": "markdown",
   "metadata": {
    "id": "yhQ_6u_mW75n"
   },
   "source": [
    "First, Let's import the necessary libraries to explore and visualise our data"
   ]
  },
  {
   "cell_type": "code",
   "execution_count": null,
   "metadata": {
    "executionInfo": {
     "elapsed": 1306,
     "status": "ok",
     "timestamp": 1677341878339,
     "user": {
      "displayName": "John Omage",
      "userId": "05987345895774564818"
     },
     "user_tz": 0
    },
    "id": "E3ZMbU4xSK7C"
   },
   "outputs": [],
   "source": [
    "import numpy as np\n",
    "import pandas as pd\n",
    "from matplotlib import pyplot as plt\n",
    "import seaborn as sns\n",
    "import hvplot.pandas\n",
    "import holoviews as hv\n",
    "import panel as pn\n",
    "import panel.interact as interact\n",
    "import math\n",
    "\n",
    "\n",
    "import warnings\n",
    "\n",
    "warnings.simplefilter('ignore')\n",
    "%matplotlib inline"
   ]
  },
  {
   "cell_type": "markdown",
   "metadata": {
    "id": "FOkgeT-cXZM3"
   },
   "source": [
    "Now that the necessary libraries are imported, let's import our datasets with `pandas` library and then compile into two dataframes - Daily Customer Data(indexed by dates) and Summary Data(indexed by outlets)"
   ]
  },
  {
   "cell_type": "code",
   "execution_count": null,
   "metadata": {
    "executionInfo": {
     "elapsed": 1802,
     "status": "ok",
     "timestamp": 1677342570363,
     "user": {
      "displayName": "John Omage",
      "userId": "05987345895774564818"
     },
     "user_tz": 0
    },
    "id": "ZEWA_bFFXXod"
   },
   "outputs": [],
   "source": [
    "# All files are stored in .csv format.\n",
    "daily_customers = pd.read_csv(\"https://tinyurl.com/ChrisCoDV/001207659/OutletDailyCustomers.csv\", index_col=0) # Time series data\n",
    "outlet_marketing = pd.read_csv(\"https://tinyurl.com/ChrisCoDV/001207659/OutletMarketing.csv\")\n",
    "outlet_overheads = pd.read_csv(\"https://tinyurl.com/ChrisCoDV/001207659/OutletOverheads.csv\")\n",
    "outlet_size = pd.read_csv(\"https://tinyurl.com/ChrisCoDV/001207659/OutletSize.csv\")\n",
    "outlet_staff = pd.read_csv(\"https://tinyurl.com/ChrisCoDV/001207659/OutletStaff.csv\")\n",
    "\n",
    "# convert the date column into `pandas date` object.\n",
    "daily_customers.index = pd.to_datetime(daily_customers.index)"
   ]
  },
  {
   "cell_type": "markdown",
   "metadata": {},
   "source": [
    "The daily_customers visits has a date/time in the frame so the index column is set as datetime."
   ]
  },
  {
   "cell_type": "markdown",
   "metadata": {
    "id": "hThXZoKVY98V"
   },
   "source": [
    "Lets have a look at the Customers daily visits data"
   ]
  },
  {
   "cell_type": "code",
   "execution_count": null,
   "metadata": {
    "colab": {
     "base_uri": "https://localhost:8080/",
     "height": 284
    },
    "executionInfo": {
     "elapsed": 210,
     "status": "ok",
     "timestamp": 1677342756023,
     "user": {
      "displayName": "John Omage",
      "userId": "05987345895774564818"
     },
     "user_tz": 0
    },
    "id": "gD8q0l55Yjrg",
    "outputId": "f5065c21-e170-4c75-f9e6-cf30bdc6991d"
   },
   "outputs": [],
   "source": [
    "print(f\"Data gathered over {daily_customers.shape[0]} days\")\n",
    "daily_customers.head()"
   ]
  },
  {
   "cell_type": "markdown",
   "metadata": {
    "id": "Pcd1ckJha4A7"
   },
   "source": [
    "The Customer Daily Visits data is a `Time Series` data. A data with datapoints sequenced in order of time. The table shows that the data are collected from 45 outlets over a 365 day (1 year) period."
   ]
  },
  {
   "cell_type": "markdown",
   "metadata": {
    "id": "e2_A-L7jcVKE"
   },
   "source": [
    "Briefly, let's explore for any missing value"
   ]
  },
  {
   "cell_type": "code",
   "execution_count": null,
   "metadata": {
    "colab": {
     "base_uri": "https://localhost:8080/"
    },
    "executionInfo": {
     "elapsed": 3,
     "status": "ok",
     "timestamp": 1677343278115,
     "user": {
      "displayName": "John Omage",
      "userId": "05987345895774564818"
     },
     "user_tz": 0
    },
    "id": "PW1lmyFgcMUI",
    "outputId": "f1a1de9a-8bc0-4105-cf1f-cffd69151813"
   },
   "outputs": [],
   "source": [
    "print(daily_customers.isna().sum())\n",
    "print(outlet_marketing.isna().sum())\n",
    "print(outlet_overheads.isna().sum())\n",
    "print(outlet_size.isna().sum())\n",
    "print(outlet_staff.isna().sum())"
   ]
  },
  {
   "cell_type": "markdown",
   "metadata": {
    "id": "-uu1ThftiFYb"
   },
   "source": [
    "There are no missing values in the summary data (per Outlet data). Run by commenting 4 others."
   ]
  },
  {
   "cell_type": "markdown",
   "metadata": {
    "id": "_XCNeG4tc5wB"
   },
   "source": [
    "Each file has complete data points for all its values. So now we build all dataframes into two:\n",
    "- Daily Customer Data (indexed by dates): Already built.\n",
    "- Summary Data (indexed by outlets)"
   ]
  },
  {
   "cell_type": "code",
   "execution_count": null,
   "metadata": {
    "colab": {
     "base_uri": "https://localhost:8080/",
     "height": 223
    },
    "executionInfo": {
     "elapsed": 322,
     "status": "ok",
     "timestamp": 1677344744379,
     "user": {
      "displayName": "John Omage",
      "userId": "05987345895774564818"
     },
     "user_tz": 0
    },
    "id": "xVbta_x7aVJ7",
    "outputId": "4536f7d8-bb23-466f-d28e-dea39abfec66"
   },
   "outputs": [],
   "source": [
    "# Summary Data (indexed by outlets)\n",
    "summary = pd.DataFrame(index=daily_customers.columns)\n",
    "summary[\"Marketing (£)\"] = outlet_marketing.iloc[:, 1].values\n",
    "summary[\"Overheads (£)\"] = outlet_overheads.iloc[:, 1].values\n",
    "summary[\"OutletSize\"] = outlet_size.iloc[:, 1].values\n",
    "summary[\"StaffCount\"] = outlet_staff.iloc[:, 1].values\n",
    "summary['TotalVisit'] = daily_customers.sum()\n",
    "\n",
    "print(\"A look into the Summary Data\")\n",
    "summary.head()"
   ]
  },
  {
   "cell_type": "markdown",
   "metadata": {},
   "source": [
    "<!--  -->"
   ]
  },
  {
   "cell_type": "markdown",
   "metadata": {},
   "source": [
    "## Analysis Of Daily Customer Visits"
   ]
  },
  {
   "cell_type": "markdown",
   "metadata": {},
   "source": [
    "#### **High and Medium Volume Outlets**\n",
    "\n",
    "Segmentation of Outlets into high, medium and low visits for the year."
   ]
  },
  {
   "cell_type": "markdown",
   "metadata": {},
   "source": [
    "Let's see a view of these sum of visits, which will also justify our segmentation by visits."
   ]
  },
  {
   "cell_type": "code",
   "execution_count": null,
   "metadata": {},
   "outputs": [],
   "source": [
    "total_visit = daily_customers.sum().sort_values(ascending=False)\n",
    "\n",
    "plt.figure(figsize=(10,8))\n",
    "plt.grid(True)\n",
    "ax = sns.barplot(x=total_visit, y=total_visit.index)\n",
    "ax.set_title('Sorted Bar Plot of Total Visits of Customers to Outlets', fontsize=18)\n",
    "# Annotate bars\n",
    "ax.bar_label(ax.containers[0], color='#336e2d', label_type='edge');"
   ]
  },
  {
   "cell_type": "markdown",
   "metadata": {},
   "source": [
    "From the sums above, segmentation can be on `600000` and `200000`, where visits above `600000` is high volume, between `600000` and `200000` for medium volume and less than `200000` for low volume."
   ]
  },
  {
   "cell_type": "code",
   "execution_count": null,
   "metadata": {},
   "outputs": [],
   "source": [
    "high_volumes = []\n",
    "medium_volumes = []\n",
    "low_volumes = []\n",
    "\n",
    "for outlet in daily_customers.columns:\n",
    "    if daily_customers[outlet].sum() > 600000:\n",
    "        high_volumes.append(outlet)\n",
    "    elif daily_customers[outlet].sum() <= 600000 and daily_customers[outlet].sum() > 200000:\n",
    "        medium_volumes.append(outlet)\n",
    "    else:\n",
    "        low_volumes.append(outlet)\n",
    "\n",
    "    \n",
    "#  Data categories for daily customer visits\n",
    "low_visit_data = daily_customers[low_volumes]\n",
    "med_visit_data = daily_customers[medium_volumes]\n",
    "high_visit_data = daily_customers[high_volumes]\n",
    "\n",
    "# Split by monthly visits\n",
    "monthly_customers = daily_customers.groupby(daily_customers.index.to_period('M')).sum()\n",
    "low_monthly_data = monthly_customers[low_volumes]\n",
    "med_monthly_data = monthly_customers[medium_volumes]\n",
    "high_monthly_data = monthly_customers[high_volumes]"
   ]
  },
  {
   "cell_type": "markdown",
   "metadata": {},
   "source": [
    "Based on these values of sectionalisation, there are 3 outlets with with volume visits (`'RFY', 'DMN', 'RAN'`), 7 outlets for medium volume visits (`'DSA', 'EYS', 'EEC', 'BMF', 'CYK', 'CGV', 'BSQ'`), and 35 low volume outlets by visits.\n",
    "\n",
    "Since the interest is in the high and medium volume visits per outlets, but client would like to have a summary of low volume outlets, let's qiuckly run through the low volume outlets.\n",
    "\n"
   ]
  },
  {
   "cell_type": "markdown",
   "metadata": {},
   "source": [
    "#### Useful FUnctions"
   ]
  },
  {
   "cell_type": "markdown",
   "metadata": {},
   "source": [
    "Let's define somes functions for visualizing our findings and for code reuse."
   ]
  },
  {
   "cell_type": "code",
   "execution_count": null,
   "metadata": {},
   "outputs": [],
   "source": [
    "import matplotlib.patches as patch\n",
    "\n",
    "# Function for visualizing distribution of a given data.\n",
    "def visualize_annual_distribution(segment: list, figure_size: tuple=(8,6), annot: bool=True, sort: bool = True):\n",
    "    '''\n",
    "    \\nThis function plots the total distribution by outlets.\\n\n",
    "    \\nAlso tells how many visits for all outlets in the segment.\\n\n",
    "\n",
    "    \\nParameters:\\n\n",
    "    segment: List of columns or features\\n\n",
    "    figure_size: Size of figure\n",
    "    annot: if true, bars will be annotated with hight value.\n",
    "    sort: if true, data will be sorted by sum of annual visits descending.\n",
    "    \\nUse case:\\n\n",
    "    plot_annual_distribution(['A', 'B', 'C'])\n",
    "    '''\n",
    "    # create a new aggregated dataframe with medium outlets with reindexed index, sorted by total visits\n",
    "    if sort:\n",
    "        data = daily_customers[segment].reindex(daily_customers[segment].sum().sort_values(ascending=False).index, axis=1)\n",
    "    else:\n",
    "        data = daily_customers[segment]\n",
    "    \n",
    "    # Count total segmentation visits\n",
    "    visits = 0\n",
    "    for count in data.sum():\n",
    "        visits += count\n",
    "\n",
    "    # Plot distribution\n",
    "    plt.figure(figsize=figure_size)\n",
    "    x = np.arange(len(medium_volumes))\n",
    "\n",
    "    ax = sns.barplot(x=segment, y=data.sum())\n",
    "    ax.set_ylabel('Annual Visits', fontsize=14)\n",
    "    ax.set_xlabel('Outlets', fontsize=14)\n",
    "    \n",
    "    if segment == high_volumes:\n",
    "        ax.set_title(f'Total Annual Visits in High Volume Outlets', fontsize=16);\n",
    "    elif segment == medium_volumes:\n",
    "        ax.set_title(f'Total Annual Visits in Medium Volume Outlets', fontsize=16);\n",
    "    else:\n",
    "        ax.set_title(f'Total Annual Visits in Low Volume Outlets', fontsize=16);\n",
    "\n",
    "    if annot:\n",
    "        ax.bar_label(ax.containers[0]); # annotate bars\n",
    "        ax.set_yticks([])\n",
    "    \n",
    "    color_patch = patch.Patch(color='black', label=f'Total: {visits}')\n",
    "    ax.legend(loc='best', handles=[color_patch])\n",
    "\n",
    "\n",
    "\n",
    "# Function for visualizing correlation with subplot\n",
    "\n",
    "def visualize_scatter_correlation(data: pd.DataFrame, volumes: list,  figure_size: tuple=(8,6)):\n",
    "    '''\n",
    "    \\nFunction gives scatter plots of correlation of features.\\n\n",
    "    \\nParameters\\n\n",
    "    data: Pandas DataFrame.\n",
    "    volumes: List of features.\n",
    "    figure_size: Size of super figure plot.\n",
    "    '''\n",
    "    fig = plt.figure(figsize=figure_size)\n",
    "    if volumes == low_volumes:\n",
    "        fig.suptitle(\"Low Volume Visits Correlation\", fontsize=20)\n",
    "    elif volumes == medium_volumes:\n",
    "        fig.suptitle(\"Medium Volume Visits Correlation\", fontsize=20)\n",
    "    else:\n",
    "        fig.suptitle(\"High Volume Visits Correlation\", fontsize=20)\n",
    "\n",
    "\n",
    "    N = len(volumes)\n",
    "    index = 1\n",
    "\n",
    "    if N == 2:\n",
    "        data.scatter(volumes[0], volumes[1]);\n",
    "    \n",
    "    for i, name_i in enumerate(volumes):\n",
    "        for j in range(i+1, N):\n",
    "            name_j = volumes[j]\n",
    "            ax = fig.add_subplot(N-1, N-1, index)\n",
    "            ax.set_title(name_i + \" vs \" + name_j, fontsize=11)\n",
    "            ax.scatter(data[name_i], data[name_j]);\n",
    "            index += 1\n",
    "\n",
    "    plt.subplots_adjust(wspace=.5, hspace=.5)\n",
    "    plt.tight_layout()\n",
    "\n",
    "\n",
    "\n",
    "\n",
    "# Function that plots heatmap of a given data.\n",
    "def visualize_correlation_heatmap(data: pd.DataFrame, size: int=6, title='Heatmap of Summary Data'):\n",
    "    '''\n",
    "    \\nFunction plots a heatmap of data.\\n\n",
    "    \\nParameters\\n\n",
    "    data: Pandas dataframe\n",
    "    size: figure size\n",
    "    title: title of figure\n",
    "    '''\n",
    "    plt.figure(figsize=(size+1,size))\n",
    "    corr = data.corr()\n",
    "    ax = sns.heatmap(corr, vmin=-1, vmax=1, annot=True, annot_kws={\"size\": 8}, cmap='coolwarm')\n",
    "    ax.set_xticklabels(ax.get_xticklabels())\n",
    "    ax.set_title(title, fontsize=16)\n",
    "    plt.show()\n",
    "\n",
    "\n",
    "\n",
    "# Function to return pairs with predefined, high corrlation coefficeint.\n",
    "def get_high_correlations(data, threshold: float=0.5):\n",
    "    '''\n",
    "    Function returns pairs with correlation coefficient greater than\\n\n",
    "    or equal to a theshold. Default threshold is 0.5.\n",
    "\n",
    "    parameters\n",
    "    data: data of reqiured correlation\n",
    "    threshold: minimum correlation coefficient of interest\n",
    "    '''\n",
    "    corr = data.corr()\n",
    "    high_corr = corr.where(np.triu(np.ones(corr.shape), k=1).astype(\"bool\")) # k=0 (main diagonal), k=1(triangle above), k=-1(traingle below)\n",
    "\n",
    "    pairs_above_threshold = {}\n",
    "    temp_corr = high_corr.values\n",
    "\n",
    "    for i in range(len(temp_corr)):\n",
    "        for j in range(len(temp_corr)):\n",
    "            if (temp_corr[i,j] > threshold) and (i != j):\n",
    "                pairs_above_threshold[(corr.columns[i], corr.columns[j])] = round(temp_corr[i,j], 3)\n",
    "    print(f'The following {len(pairs_above_threshold)} pair(s) have correlation coefficients greater than {threshold}')\n",
    "    return pairs_above_threshold\n"
   ]
  },
  {
   "cell_type": "markdown",
   "metadata": {},
   "source": [
    "<!--  -->"
   ]
  },
  {
   "cell_type": "markdown",
   "metadata": {},
   "source": [
    "### **Summarized EDA For Low Visits Outlets**"
   ]
  },
  {
   "cell_type": "markdown",
   "metadata": {},
   "source": [
    "There 35 outlets with low customer visits. This will be explored briefly to figure out specific information about them"
   ]
  },
  {
   "cell_type": "markdown",
   "metadata": {},
   "source": [
    "#### Daily Customer Visits"
   ]
  },
  {
   "cell_type": "markdown",
   "metadata": {},
   "source": [
    "First, I'll look at the distribution of the dataset:"
   ]
  },
  {
   "cell_type": "code",
   "execution_count": null,
   "metadata": {},
   "outputs": [],
   "source": [
    "visualize_annual_distribution(low_volumes, figure_size=(16,8), annot=False, sort=False)"
   ]
  },
  {
   "cell_type": "markdown",
   "metadata": {},
   "source": [
    "The distribution shows that we have the lowest sum of total visits at Outlet `ZMY` (less than 5000) and the highest sum at Outlet `END` (about 34000).\n",
    "\n",
    "I will like to look into each outlet to for further exploration. Let's visualise this with composite `line plot`."
   ]
  },
  {
   "cell_type": "markdown",
   "metadata": {},
   "source": [
    "#### Line Chart"
   ]
  },
  {
   "cell_type": "code",
   "execution_count": null,
   "metadata": {},
   "outputs": [],
   "source": [
    "fig, ax = plt.subplots(figsize=(12,8))\n",
    "ax.plot(daily_customers[low_volumes], linewidth=2)\n",
    "ax.set_title(\"Line Plots of Low Volume Outlets\", fontsize=18)\n",
    "ax.set_ylim(0) # set y-axis to start from 0\n",
    "plt.gca().set_prop_cycle(None) #gca = get current axes\n",
    "ax.legend(daily_customers[low_volumes].columns, loc=\"best\")\n",
    "plt.show()"
   ]
  },
  {
   "cell_type": "markdown",
   "metadata": {},
   "source": [
    "The line plots looks messy so I will be using subplots to visualise how these outlets behaved over the months."
   ]
  },
  {
   "cell_type": "markdown",
   "metadata": {},
   "source": [
    "So, let's do a subplot for each outlet:"
   ]
  },
  {
   "cell_type": "markdown",
   "metadata": {},
   "source": [
    "#### Line Charts For Each Outlet"
   ]
  },
  {
   "cell_type": "code",
   "execution_count": null,
   "metadata": {},
   "outputs": [],
   "source": [
    "# Set figure size\n",
    "plt.figure(figsize=(12,10))\n",
    "plt.suptitle(\"Plots of Low Visits Outlets\", fontsize=18)\n",
    "low_volumes_sorted = sorted(low_volumes)\n",
    "\n",
    "index = 1\n",
    "for outlet in low_volumes_sorted:\n",
    "    sub = plt.subplot(6, 6, index)\n",
    "    sub.plot(daily_customers[outlet], c=\"g\") # plot lines for each outlet of low volumes\n",
    "    sub.set_title(outlet)\n",
    "    sub.set_xticklabels([])\n",
    "    index += 1\n",
    "plt.tight_layout()\n",
    "plt.show()"
   ]
  },
  {
   "cell_type": "markdown",
   "metadata": {},
   "source": [
    "#### Observations - Line Chart Subplots for Low Visits Outlets"
   ]
  },
  {
   "cell_type": "markdown",
   "metadata": {},
   "source": [
    "The subplots grouping has given a better insight into the visits to each outlet through the year.\n",
    "\n",
    ">The following were can be observed from the line charts of low customer visits above:\n",
    "- Outlet `AYD` opened in April 2021.\n",
    "- Outlet `IZX` closed in May 2021.\n",
    "- OUtlet `AGN` opened in October 2021.\n",
    "- Outlet `ZMY` opened in October 2021. This outlet saw a sharp increase in customer visits for the next four months. This could be due to previous awareness or high customers expectations of set up in that area or outlet sold items at relatively low prices. So, this outlet looks promising.\n",
    "- Outlet `HTF` closed in May 2021.\n",
    "- Outlet `ZYT` closed in April 2021.\n",
    "- Outlet `XSB` opened in April 2021.\n",
    "- Outlet `ZSJ` opened in July 20201.\n",
    "- Outlet `HNV` closed in October 2021.\n",
    "- Outlet `YMQ` opened in July 2021.\n",
    "- Outlet `YGE` closed in October 2021.\n",
    "\n",
    "However, visits were higher for these outlets in December 2021 as, obviously, it was a festive period, with Oultet `AYD` having the highest turn up of 227 customers."
   ]
  },
  {
   "cell_type": "markdown",
   "metadata": {},
   "source": [
    "### **Summary For Low Volume Outlets**"
   ]
  },
  {
   "cell_type": "markdown",
   "metadata": {},
   "source": [
    "The chart below gives a broad picture of low visits outlets"
   ]
  },
  {
   "cell_type": "code",
   "execution_count": null,
   "metadata": {},
   "outputs": [],
   "source": [
    "low_monthly_data.plot(figsize=(12,8), title='Low Visits Outlets Records for Year 2021');\n",
    "plt.legend(loc='upper right');"
   ]
  },
  {
   "cell_type": "markdown",
   "metadata": {},
   "source": [
    "- Most stores recorded the lowest visits in February.\n",
    "- 2 outlts **opened** in April, 2 in July and 2 in October. This makes a total of 6 new outlets.\n",
    "- 1 outlet closed in April, 2 in May, 2 in October. This gives a total of 5 shortdowns.\n",
    "-In effect, 30 low visits outlets were left at the end of the year 2021."
   ]
  },
  {
   "cell_type": "markdown",
   "metadata": {},
   "source": [
    "<!--  -->"
   ]
  },
  {
   "cell_type": "markdown",
   "metadata": {},
   "source": [
    "## Medium And High Visits Exploratory Data Analysis"
   ]
  },
  {
   "cell_type": "markdown",
   "metadata": {},
   "source": [
    "Monthly Total Visits Data Visualization"
   ]
  },
  {
   "cell_type": "code",
   "execution_count": null,
   "metadata": {},
   "outputs": [],
   "source": [
    "def visualize_monthly_barchart_for(data: pd.DataFrame):\n",
    "    '''\n",
    "    Function to visualize monthly visits of a given dataframe\\n\n",
    "\n",
    "    Parameters\\n\n",
    "    data: given pandas dataframe\n",
    "    '''\n",
    "    data.plot(kind='bar', figsize=(10,8))\n",
    "    plt.ylabel(\"Monthly Visits\", fontsize=14)\n",
    "    plt.legend(loc=\"upper right\")\n",
    "    if len(data.columns) == 3:\n",
    "        plt.title('High Outlets Customer Visits Per Month', fontsize=16)\n",
    "    else:\n",
    "        plt.title('Medium Outlets Customer Visits Per Month', fontsize=16)\n",
    "    plt.show()\n",
    "\n",
    "\n",
    "\n",
    "\n",
    "def visualize_line_charts_for(segment: list):\n",
    "    '''\n",
    "    Function to visualize grouped barchart of a given volume.\\n\n",
    "    Parameters\n",
    "    segment: list of volume outlet names\n",
    "    '''\n",
    "    fig, ax = plt.subplots(figsize=(12,8))\n",
    "    ax.plot(daily_customers[segment], linewidth=2)\n",
    "    ax.set_ylim(0) # set y-axis to start from 0\n",
    "    ax.legend(daily_customers[segment].columns, loc=\"best\")\n",
    "\n",
    "    if segment == high_volumes:\n",
    "        ax.set_title(\"Line Plots of High Volume Outlets\", fontsize=18)\n",
    "    elif segment == medium_volumes:\n",
    "        ax.set_title(\"Line Plots of Medium Volume Outlets\", fontsize=18)\n",
    "    else:\n",
    "        ax.set_title(\"Line Plots of Low Volume Outlets\", fontsize=18)\n",
    "\n",
    "    plt.show()\n",
    "\n",
    "\n",
    "\n",
    "\n",
    "\n",
    "def visualize_subcharts_for(segment: list):\n",
    "    '''\n",
    "    To visualize subplots for a given volume\\n\n",
    "    Parameter:\n",
    "    segment: list of volume outlet names\n",
    "    '''\n",
    "    # Set figure size\n",
    "    plt.figure(figsize=(12,10))\n",
    "    sub_plots = ()\n",
    "    if segment == high_volumes:\n",
    "        plt.suptitle(\"Subplots of Daily Visits for High Volume Outlets\", fontsize=18)\n",
    "        sub_plots = (2,2)\n",
    "    elif segment == medium_volumes:\n",
    "        plt.suptitle(\"Subplots of Daily Visits for Medium Volume Outlets\", fontsize=18)\n",
    "        sub_plots = (3,3)\n",
    "    else:\n",
    "        plt.suptitle(\"Subplots of Daily Visits for Low Volume Outlets\", fontsize=18)\n",
    "        sub_plots = (6,6)\n",
    "\n",
    "    index = 1\n",
    "    for outlet in segment:\n",
    "        sub = plt.subplot(sub_plots[0], sub_plots[1], index)\n",
    "        sub.plot(daily_customers[outlet]) # plot lines for each outlet of medium volumes\n",
    "        sub.set_title(outlet)\n",
    "        sub.set_xticks([])\n",
    "        index += 1\n",
    "    plt.tight_layout()\n",
    "    plt.show()\n",
    "\n",
    "\n",
    "\n",
    "\n",
    "def visualize_visits_per_month(data: pd.DataFrame):\n",
    "    '''\n",
    "    Monthly visits visualization for the year.\\n\n",
    "    Parameter\n",
    "    data: monthly dataframe -\\n\n",
    "    \\tlow_monthly_data,\\n\n",
    "    \\tmed_monthly_data,\\n\n",
    "    \\thigh_monthly_data\n",
    "    '''\n",
    "    viz = data.sum(axis=1).plot(kind='bar', figsize=(10,6))\n",
    "    viz.bar_label(viz.containers[0])\n",
    "    plt.yticks([])\n",
    "    plt.ylabel('Total Monthly Visits', fontsize=14)\n",
    "    \n",
    "    if data.columns is high_volumes:\n",
    "        plt.title('High Volumes Visits Per Month', fontsize=16)\n",
    "    else:\n",
    "        plt.title('Medium Volumes Visits Per Month', fontsize=16)\n",
    "    plt.show()\n",
    "    plt.show()\n"
   ]
  },
  {
   "cell_type": "code",
   "execution_count": null,
   "metadata": {},
   "outputs": [],
   "source": [
    "visualize_visits_per_month(med_monthly_data)"
   ]
  },
  {
   "cell_type": "markdown",
   "metadata": {},
   "source": [
    "### **EDA For Medium Visits Outlets**"
   ]
  },
  {
   "cell_type": "markdown",
   "metadata": {},
   "source": [
    "This Explaratory Data Analysis (EDA) will follow the template of annual to monthly to daily explorations."
   ]
  },
  {
   "cell_type": "markdown",
   "metadata": {},
   "source": [
    "First, we'll look at the statistics for this segment of outlets"
   ]
  },
  {
   "cell_type": "code",
   "execution_count": null,
   "metadata": {},
   "outputs": [],
   "source": [
    "med_visit_data.describe()"
   ]
  },
  {
   "cell_type": "markdown",
   "metadata": {},
   "source": [
    "Outlet `BMF` recorded the lowest customer visits while `EEC` had the highest."
   ]
  },
  {
   "cell_type": "markdown",
   "metadata": {},
   "source": [
    "#### **Total Annual Visits for Medium Outlets**"
   ]
  },
  {
   "cell_type": "markdown",
   "metadata": {},
   "source": [
    "There are 7 outlets with annual medium visits by customers based on our segmentation. These outlets are:\n",
    "\n",
    "- 'DSA', 'EYS', 'EEC', 'BMF', 'CYK', 'CGV', 'BSQ'\n",
    "\n",
    "AS shown, the total visits to all Medium Outlets through the year is 2,186,224."
   ]
  },
  {
   "cell_type": "markdown",
   "metadata": {},
   "source": [
    "So, let's explore how these 2186224 visits were distributed by outlets for the entire year."
   ]
  },
  {
   "cell_type": "code",
   "execution_count": null,
   "metadata": {},
   "outputs": [],
   "source": [
    "visualize_annual_distribution(segment=medium_volumes)"
   ]
  },
  {
   "cell_type": "markdown",
   "metadata": {},
   "source": [
    "#### Distribution Observation\n",
    "\n"
   ]
  },
  {
   "cell_type": "markdown",
   "metadata": {},
   "source": [
    " - Total annual visits across all outlets is 2,186,224\n",
    " \n",
    " - For the Outlets with medium count of customer visits (outlets with over 200k but not up to 600k visits), highest record is `DSA` with over 360k visits while `CGV` had the lowest of just above 273k visits through the year."
   ]
  },
  {
   "cell_type": "markdown",
   "metadata": {},
   "source": [
    "#### Per Outlet Daily Visits"
   ]
  },
  {
   "cell_type": "markdown",
   "metadata": {},
   "source": [
    "I will be exploring each outlet behavior by visits over the year."
   ]
  },
  {
   "cell_type": "code",
   "execution_count": null,
   "metadata": {},
   "outputs": [],
   "source": [
    "visualize_line_charts_for(medium_volumes)"
   ]
  },
  {
   "cell_type": "markdown",
   "metadata": {},
   "source": [
    "From the plot above, although still noisy, we can see that the turn ups at these outlets maintain a similar range. Outlet `BMF` had the lowest visits towards the ending of December while outlet `EEC` has the highest visits in few weeks into December."
   ]
  },
  {
   "cell_type": "markdown",
   "metadata": {},
   "source": [
    "Now, let's see a individual plot of the outlets with medium visits."
   ]
  },
  {
   "cell_type": "code",
   "execution_count": null,
   "metadata": {},
   "outputs": [],
   "source": [
    "visualize_subcharts_for(medium_volumes)"
   ]
  },
  {
   "cell_type": "markdown",
   "metadata": {},
   "source": [
    "#### Observations - Medium Visits Outlets Subplots"
   ]
  },
  {
   "cell_type": "markdown",
   "metadata": {},
   "source": [
    "We can't really say if there is any trend for sure as there are lots of noice in the data, but Outlet `BSQ` appear to be stationary. However, there seems to be some sorts of seasonality in the plots.\n",
    "\n",
    ">Definitions\n",
    "\n",
    "- **Seasonality**: The variations in a time series data that occurs a any particular regular intervals or time periods in a year.\n",
    "- **Trend**: This represents the upward or downward observed movement of a time series over a period of time.\n",
    "- **Stationarity**: The occurence of neither upward nor downward movement of a time series over an entire period.\n",
    "\n"
   ]
  },
  {
   "cell_type": "markdown",
   "metadata": {},
   "source": [
    "Let's create subplots of line charts for Medium Volumes Outlet with trendlines added. The subplots are sorted in decreasing order of total visits."
   ]
  },
  {
   "cell_type": "code",
   "execution_count": null,
   "metadata": {},
   "outputs": [],
   "source": [
    "import matplotlib.dates as mpldate\n",
    "\n",
    "# sort outlets by total visits\n",
    "med_sum_sorted = daily_customers[medium_volumes].sum().sort_values(ascending=False)\n",
    "\n",
    "# create rolling mean object with a 7 day period\n",
    "period = 28\n",
    "moving_average = med_visit_data.rolling(window=period).mean() #rolling mean\n",
    "\n",
    "# loop through all medium visits outlets.\n",
    "plt.figure(figsize=(12,8))\n",
    "plt.suptitle('Rolling Mean Plot with Trends For Medium Volume Outlets', fontsize=18)\n",
    "index = 1\n",
    "\n",
    "for outlet in med_sum_sorted.index:\n",
    "    x = mpldate.date2num(moving_average.index.values)\n",
    "    y = med_visit_data[outlet].values\n",
    "    z1 = np.polyfit(x, y, 1)\n",
    "    z3 = np.polyfit(x, y, 3)\n",
    "    trend1 = np.poly1d(z1)\n",
    "    trend3 = np.poly1d(z3)\n",
    "    sub = plt.subplot(3,3,index)\n",
    "    sub.plot(moving_average[outlet], linewidth=.8)\n",
    "    sub.plot(x, trend1(x), linewidth=2, linestyle=\"--\", label='linear')\n",
    "    sub.plot(x, trend3(x), linewidth=2, linestyle=\"--\", label='poly', c='m')\n",
    "    sub.set_xticklabels(sub.get_xticklabels(), rotation=30)\n",
    "    sub.set(title=outlet)\n",
    "    # sub.legend(loc='best')\n",
    "    index += 1\n",
    "plt.tight_layout()\n",
    "plt.show()"
   ]
  },
  {
   "cell_type": "markdown",
   "metadata": {},
   "source": [
    "#### Observations for Seasonality and Trend"
   ]
  },
  {
   "cell_type": "markdown",
   "metadata": {},
   "source": [
    "The rolling mean plots are quite interesting. The trends and seasonalities are now visible. Linear and polynomial trend lines are combined for more exploration at these outlets.\n",
    "\n",
    ">**DAS**\n",
    "\n",
    "- `Trend`: I would say this outlet's visits behaviour is cyclic. This is because the trend seems to be cyclic - starting in January 2022 where it almost started in January 2021. On the average, the monthly visits saw an uptrend through the year. It has the highest customers turnout through the year with visits peaked in July at the 1540 visits.\n",
    "\n",
    "- `Seasonality`: Outlet visits seems seasonal bimonthly. There was a deep in visits early June but peaked in July. Seasonality is also observed between November and January.\n",
    "\n",
    ">**EEC**\n",
    "\n",
    "- `Trend`: This outlet's visits behaviour is almost opposite that of `DAS`. Although an uptrend with peak in December and trough in February.\n",
    "\n",
    "- `Seasonality`: Bimonthly seasonality also observed in the outlet.\n",
    "\n",
    "\n",
    ">**EYS**\n",
    "\n",
    "- `Trend`: There is an uptrend in this outlet as observed with both linear and poly plots.\n",
    "\n",
    "- `Seasonality`: Seasonality is almost bimonthly.\n",
    "\n",
    ">**BSQ**\n",
    "\n",
    "- `Trend`: Outlet is visits behaviour is rather stationary as shown by both trend lines through the year.\n",
    "\n",
    "- `Seasonality`: Seasonalities can also been seen at this outlet through the year. It is almost quarterly.\n",
    "\n",
    ">**BMF**\n",
    "\n",
    "- `Trend`: This outlet experienced a downtrend of customer visits through the year. This trend seems to be the inverse of the behavior at outlet `EEC` with January and December inverted.\n",
    "\n",
    "- `Seasonality`: Outlet's visits seem to have quaterly seasonality.\n",
    "\n",
    "\n",
    ">**CYK**\n",
    "\n",
    "- `Trend`: This ouotlet has a gentle rising trend. \n",
    "\n",
    "- `Seasonality`: Seasonality is roughly quaterly.\n",
    "\n",
    ">**CGV**\n",
    "\n",
    "- `Trend`: There is an uptrend.\n",
    "\n",
    "- `Seasonality`: Seasonality is roughly monthly."
   ]
  },
  {
   "cell_type": "markdown",
   "metadata": {},
   "source": [
    "Generally, most of the medium visits outlets saw a peaked turn up of customers between September and December most likely because it was festive season."
   ]
  },
  {
   "cell_type": "markdown",
   "metadata": {},
   "source": [
    "The grouped plot shows how the medium visits outlets compare monthly. The average peaked visits happened in July."
   ]
  },
  {
   "cell_type": "markdown",
   "metadata": {},
   "source": [
    "As shown below, the medium volume outlets recorded the lowest customers turn up in February. This is better shown below."
   ]
  },
  {
   "cell_type": "code",
   "execution_count": null,
   "metadata": {},
   "outputs": [],
   "source": [
    "med_monthly_data.plot(figsize=(8,6))\n",
    "plt.ylabel('Monthly Visits', fontsize=14)\n",
    "plt.title('Medium Volume Outlets Customer Visits');"
   ]
  },
  {
   "cell_type": "markdown",
   "metadata": {},
   "source": [
    "Finally, let's check for outliers in medium volumes"
   ]
  },
  {
   "cell_type": "code",
   "execution_count": null,
   "metadata": {},
   "outputs": [],
   "source": [
    "sns.boxplot(data=daily_customers[medium_volumes]);\n",
    "plt.title('Boxplot For Medium Volume Outlets')\n",
    "plt.ylabel('Visits Records')\n",
    "plt.xlabel('Medium Volumes')\n",
    "plt.show()"
   ]
  },
  {
   "cell_type": "markdown",
   "metadata": {},
   "source": [
    "> **Observations**\n",
    "\n",
    "- Lowest Visit count: Outlet BMF had the lowest visit.\n",
    "- Spread of the visits records (Visits consistency): EEC had the highest spread and therefore most irregular with visits. EYS had the least spread and therefore most consistent with visit records.\n",
    "- Median Visits: DSA comes first with the highest meadian daily visits.\n",
    "- Highest Visits: EEC recorded the highest.\n",
    "- Outliers: An outlier is a datapoint with value that is significantly different from the rest of the data. 5 outlets - DSA, EEC, BMF, CYK and CGV have outliers. However, DSA had the most outliers.\n"
   ]
  },
  {
   "cell_type": "markdown",
   "metadata": {},
   "source": [
    "<!--  -->"
   ]
  },
  {
   "cell_type": "markdown",
   "metadata": {},
   "source": [
    "### **EDA For High Volume Visits Outlets**"
   ]
  },
  {
   "cell_type": "markdown",
   "metadata": {},
   "source": [
    "This Explaratory Data Analysis (EDA) will follow the template of annual to monthly to daily explorations for high end outlets by visits (`'RFY', 'DMN', 'RAN'`)"
   ]
  },
  {
   "cell_type": "markdown",
   "metadata": {},
   "source": [
    "#### **Total Annnual Visit for High Customer Outlets**"
   ]
  },
  {
   "cell_type": "markdown",
   "metadata": {},
   "source": [
    "AS shown below, the total visits to all High Outlets through the year is 2,069,183."
   ]
  },
  {
   "cell_type": "code",
   "execution_count": null,
   "metadata": {},
   "outputs": [],
   "source": [
    "visualize_annual_distribution(segment=high_volumes)"
   ]
  },
  {
   "cell_type": "markdown",
   "metadata": {},
   "source": [
    "There are 3 outlets with annual high visits by customers based on our segmentation. These outlets are:\n",
    "\n",
    "- `'RFY', 'DMN', 'RAN'`"
   ]
  },
  {
   "cell_type": "markdown",
   "metadata": {},
   "source": [
    "#### Monthly Visits"
   ]
  },
  {
   "cell_type": "markdown",
   "metadata": {},
   "source": [
    "So, let's explore how these 2069183 visits were distributed by outlets monthly through the entire year."
   ]
  },
  {
   "cell_type": "code",
   "execution_count": null,
   "metadata": {},
   "outputs": [],
   "source": [
    "visualize_monthly_barchart_for(high_monthly_data)"
   ]
  },
  {
   "cell_type": "markdown",
   "metadata": {},
   "source": [
    "One common behave the high volume outlets have is that they recorded the lowest visits in February, just as in medium volume outlets."
   ]
  },
  {
   "cell_type": "markdown",
   "metadata": {},
   "source": [
    "January happens to bee the month with most customers visits. Other months with high visits are July, OCtober and December."
   ]
  },
  {
   "cell_type": "markdown",
   "metadata": {},
   "source": [
    "<!--  -->"
   ]
  },
  {
   "cell_type": "markdown",
   "metadata": {},
   "source": [
    "#### Daily Visits Analysis"
   ]
  },
  {
   "cell_type": "markdown",
   "metadata": {},
   "source": [
    "Let's see plots of how each outlet performed based on daily visits. This will be visualized with line charts."
   ]
  },
  {
   "cell_type": "code",
   "execution_count": null,
   "metadata": {},
   "outputs": [],
   "source": [
    "visualize_subcharts_for(high_volumes)"
   ]
  },
  {
   "cell_type": "markdown",
   "metadata": {},
   "source": [
    "An uptrend is suspected in outlet `RFY` while in outlets `DMN` and `RAN` we have down trends. However, this will be explored further with moving average.\n"
   ]
  },
  {
   "cell_type": "markdown",
   "metadata": {},
   "source": [
    "Plot rolling average over 28 day period"
   ]
  },
  {
   "cell_type": "code",
   "execution_count": null,
   "metadata": {},
   "outputs": [],
   "source": [
    "# sort outlets by total visits\n",
    "high_sum_sorted = daily_customers[high_volumes].sum().sort_values(ascending=False)\n",
    "\n",
    "# create rolling mean object with a 28 day period\n",
    "period = 28\n",
    "moving_average_h = high_visit_data.rolling(window=period).mean() #rolling mean\n",
    "\n",
    "# loop through all medium visits outlets.\n",
    "plt.figure(figsize=(12,5))\n",
    "plt.suptitle('Moving Average Plot with Trends For High Volume Outlets', fontsize=18)\n",
    "index = 1\n",
    "\n",
    "for outlet in high_sum_sorted.index:\n",
    "    sub = plt.subplot(1,3,index)\n",
    "    sub.plot(moving_average_h[outlet], linewidth=.8)\n",
    "    sub.set_xticklabels(sub.get_xticklabels(),rotation=30)\n",
    "    sub.set(title=outlet,\n",
    "            xlabel='Date',\n",
    "            ylabel='Visits')\n",
    "    index += 1\n",
    "plt.tight_layout()\n",
    "plt.show()"
   ]
  },
  {
   "cell_type": "markdown",
   "metadata": {},
   "source": [
    "#### Observations\n",
    "\n",
    "Trends and seasonality are now obvious."
   ]
  },
  {
   "cell_type": "markdown",
   "metadata": {},
   "source": [
    ">RFY\n",
    "- **Trend**: The overall highest visits volume outlets continued to see a growth of customers visit through the year. Besides, the outlet had the highest maginal growth. Outlet had a total customer growth of 6680 at year end.\n",
    "\n",
    "- **Seasonality**: This can be observed in April and in November.\n",
    "\n",
    "\n",
    ">RAN\n",
    "- **Trend**: `RAN` outlet suffered customers loss as the year ran full length, losing 5820 between January and December inclusive.\n",
    "\n",
    "- **Seasonality**: No seasonality observed.\n",
    "\n",
    "\n",
    ">DMN\n",
    "- **Trend**: Just like `RAN` outlet, `DMN` also suffered customers loss as the year ran full length, but lost higher customers - 6507, between January and December inclusive.\n",
    "\n",
    "- **Seasonality**: No seasonality observed."
   ]
  },
  {
   "cell_type": "markdown",
   "metadata": {},
   "source": [
    "## Conclusion of Daily Visits Data"
   ]
  },
  {
   "cell_type": "markdown",
   "metadata": {},
   "source": [
    "So far, the daily customer visits the these outlets show quite interesting behaviour. In general, the lowest monthly visits were recorded in February, highest in July.\n",
    "\n",
    "We saw some low volume outlets like `HTF, ZYT, YGE` struggled with customers visits and eventually closed while others like `YMQ`, `XSB`, `ZSJ` opened as the year ran with some even seeing an aggressive increase in customer visits like `ZMY`.\n",
    "\n",
    "The medium volume outlets had some that can be invested in through outlet size expansion or increasing staff strength, for example `DAS, EEC, EYS, CGV`.\n",
    "\n",
    "The high volume outlets had drops in visits in `RAN` and `DMN`.\n",
    "\n",
    "Overall, the average daily visits in about 13,800 in ChrisCo in 2021.\n",
    "\n"
   ]
  },
  {
   "cell_type": "markdown",
   "metadata": {},
   "source": [
    "<!--  -->"
   ]
  },
  {
   "cell_type": "markdown",
   "metadata": {},
   "source": [
    "<!--  -->"
   ]
  },
  {
   "cell_type": "markdown",
   "metadata": {},
   "source": [
    "## EDA For Summary Data"
   ]
  },
  {
   "cell_type": "markdown",
   "metadata": {},
   "source": [
    "The Summary Data has a record of information about the spendings and staff strength at each outlet through the year. Just like in the [Daily Customer Visits](#analysis-of-daily-customer-visits) data, analyses will be based on the segmentations, mostly for High and Medium Outlets. Interactive plots will also be used in this session."
   ]
  },
  {
   "cell_type": "markdown",
   "metadata": {},
   "source": [
    "### Pre-Exploration"
   ]
  },
  {
   "cell_type": "markdown",
   "metadata": {},
   "source": [
    "But first, let's have a look again at what the data looks like."
   ]
  },
  {
   "cell_type": "code",
   "execution_count": null,
   "metadata": {},
   "outputs": [],
   "source": [
    "summary_data = summary.copy()\n",
    "summary_data.head()"
   ]
  },
  {
   "cell_type": "markdown",
   "metadata": {},
   "source": [
    "Let's check for any missing data"
   ]
  },
  {
   "cell_type": "code",
   "execution_count": null,
   "metadata": {},
   "outputs": [],
   "source": [
    "print(f'Missing data:\\n{summary_data.isna().sum()}')"
   ]
  },
  {
   "cell_type": "markdown",
   "metadata": {},
   "source": [
    "No missing data. Now, we look at the statistical properties."
   ]
  },
  {
   "cell_type": "code",
   "execution_count": null,
   "metadata": {},
   "outputs": [],
   "source": [
    "summary_data.describe()"
   ]
  },
  {
   "cell_type": "markdown",
   "metadata": {},
   "source": [
    "> Key Notes:\n",
    "\n",
    "- \tThere are 45 data points (outlets) and 5 features, which are ` Marketing, Overheads, Size of Outlet, Total Annual Visit and Staff Strength`.\n",
    "\n",
    "- Highest staff strength is 67! We will see how this outlet maximized this.\n",
    "\n",
    "- Biggest outlet is of size 7530 $m^2$.\n",
    "\n",
    "- Biggest spend on marketing was £87k\n",
    "\n",
    "- Most spend in overhead was £98k.\n",
    "\n",
    "\n",
    "Let's explore how these outlets used their respective features to their advantage."
   ]
  },
  {
   "cell_type": "markdown",
   "metadata": {},
   "source": [
    "#### Useful Functions"
   ]
  },
  {
   "cell_type": "markdown",
   "metadata": {},
   "source": [
    "Let's define functions for creating plots and for normalizing."
   ]
  },
  {
   "cell_type": "code",
   "execution_count": null,
   "metadata": {},
   "outputs": [],
   "source": [
    "from sklearn.preprocessing import StandardScaler\n",
    "\n",
    "# MinMaxScaler Normalizer\n",
    "def min_max_scale(df):\n",
    "    result = df.copy()\n",
    "    for feature_name in df.columns:\n",
    "        max_value = df[feature_name].max()\n",
    "        min_value = df[feature_name].min()\n",
    "        result[feature_name] = (df[feature_name] - min_value) / (max_value - min_value)\n",
    "    return result\n",
    "\n",
    "\n",
    "def standard_rescale(df):\n",
    "    return pd.DataFrame(StandardScaler().fit_transform(df), columns=df.columns, index=df.index)\n",
    "\n",
    "\n",
    "\n",
    "# To visualtize Summary or Modified Summary Data\n",
    "def visualize_radar_plot_for(segment: list, data=summary_data):\n",
    "    '''\n",
    "    To visualtize Summary or Modified Summary Data\n",
    "\n",
    "    parameters:\\n\n",
    "    segment: list of outlets\n",
    "\n",
    "    data: dataframe of summary or modified summary data.\n",
    "    '''\n",
    "    normalized_data = min_max_scale(data)\n",
    "\n",
    "\n",
    "    categories = ['OutletSize', 'TotalVisits', 'Marketing (£)', 'StaffCount', 'Overheads (£)']\n",
    "\n",
    "    n_attributes = len(categories)\n",
    "    angles = [n / float(n_attributes) * 2 * np.pi for n in range(n_attributes + 1)]\n",
    "    colours = ['b', 'g', 'r', 'c', 'm', 'y', 'k', 'w']\n",
    "    radius = radius = np.linspace(0, 1, 5)\n",
    "    c = 0\n",
    "    plt.figure(figsize=(8, 8))\n",
    "\n",
    "    if segment == high_volumes:\n",
    "        plt.suptitle('Radar Plot for High Volume Outlets', fontsize=16)\n",
    "    else:\n",
    "        plt.suptitle('Radar Plot for Medium Volume Outlets', fontsize=16)\n",
    "        \n",
    "    sub = plt.subplot(1, 1, 1, polar=True)\n",
    "    \n",
    "    for name in segment:\n",
    "        values = normalized_data.loc[[name]].values.flatten().tolist()\n",
    "        values += values[:1]\n",
    "        sub.plot(angles, values, colours[c % len(colours)], label='Outlet ' + name)\n",
    "        sub.fill(angles, values, colours[c % len(colours)], alpha=0.1)\n",
    "        sub.set_ylim(ymax=1.05)\n",
    "        sub.set_yticks(radius)\n",
    "        sub.set_xticks(angles[0:-1])\n",
    "        sub.set_xticklabels(categories)\n",
    "        c += 1\n",
    "    plt.legend(loc='upper right', bbox_to_anchor=(1.1, 1))\n",
    "    plt.show()\n",
    "\n",
    "\n",
    "# Bar charts for summary data or modified summary data\n",
    "def visualize_barcharts_for(segment: list, data: pd.DataFrame=summary_data):\n",
    "    '''\n",
    "    Bar charts for summary data for high and medium volumes\n",
    "\n",
    "    Parameters\n",
    "    segment: list of outlets\n",
    "    data: Pandas Dataframe (of daily visits)\n",
    "    '''\n",
    "    plt.figure(figsize=(10, 6))\n",
    "    counter = 1\n",
    "    if segment == high_volumes:\n",
    "        plt.suptitle('Bar Subplots for High Volume Outlets', fontsize=18)\n",
    "    else:\n",
    "        plt.suptitle('Bar Subplots for Medium Volume Outlets', fontsize=18)\n",
    "\n",
    "    for attribute in data:\n",
    "        x_pos = np.arange(len(data.loc[segment].index))\n",
    "        sub = plt.subplot(3,3, counter)\n",
    "        sub.bar(x_pos, data[attribute].loc[segment], align='center')\n",
    "        sub.set_xticks(x_pos, data.loc[segment].index)\n",
    "        # sub.set_xlabel('Outlets', fontsize=18)\n",
    "        color_patch = patch.Patch(color='green', label=attribute)\n",
    "        sub.legend(loc='best', handles=[color_patch])\n",
    "        # sub.set_ylabel(attribute, fontsize=18)\n",
    "        counter += 1\n",
    "    plt.tight_layout()\n",
    "    plt.show()\n",
    "    # return sub"
   ]
  },
  {
   "cell_type": "markdown",
   "metadata": {},
   "source": [
    "#### Parameters Correlation"
   ]
  },
  {
   "cell_type": "markdown",
   "metadata": {},
   "source": [
    "Let's visualize how these features correlate with each other but I'll introduce a metric called marketing returns. This is the number of visits per marketing spend at any outlet."
   ]
  },
  {
   "cell_type": "code",
   "execution_count": null,
   "metadata": {},
   "outputs": [],
   "source": [
    "# high_plus_med = high_volumes + medium_volumes # high and medium volume outlets\n",
    "# marketing_returns = (summary_data['TotalVisit']*10/summary_data['Marketing (£)']).astype('int')\n",
    "# # marketing_returns.loc[volumes]\n",
    "# suggested_data = summary_data.copy()\n",
    "# suggested_data['MarketingReturns'] = marketing_returns\n",
    "# suggested_data.head()\n"
   ]
  },
  {
   "cell_type": "code",
   "execution_count": null,
   "metadata": {
    "scrolled": false
   },
   "outputs": [],
   "source": [
    "plots = []\n",
    "size = (summary_data['TotalVisit']*10/summary_data['Marketing (£)']).astype('int')\n",
    "categories = summary_data.columns\n",
    "for i, name_i in enumerate(categories):\n",
    "    for j in range(i + 1, len(categories)):\n",
    "        name_j = categories[j]\n",
    "        plot = standard_rescale(summary_data).hvplot.scatter(x=name_i, y=name_j,\n",
    "                                                          frame_width=200, frame_height=200,\n",
    "                                                          xlabel=name_i, ylabel=name_j, size=size,\n",
    "                                                          title=name_i + ' vs ' + name_j,\n",
    "                                                          color=name_i, cmap='coolwarm', alpha=.6)\n",
    "        plots.append(plot)\n",
    "        \n",
    "hv.Layout(plots).cols(3)"
   ]
  },
  {
   "cell_type": "markdown",
   "metadata": {},
   "source": [
    "**Heatmap for Summary Data**\n",
    "\n",
    "Let's visualize this table as a heatmap."
   ]
  },
  {
   "cell_type": "code",
   "execution_count": null,
   "metadata": {
    "scrolled": false
   },
   "outputs": [],
   "source": [
    "visualize_correlation_heatmap(summary_data, size=7)"
   ]
  },
  {
   "cell_type": "markdown",
   "metadata": {},
   "source": [
    "### **Observations**"
   ]
  },
  {
   "cell_type": "markdown",
   "metadata": {},
   "source": [
    "- `Marketing vs Staff Count` has strong positive correlation. Bigger outlets require  more staff.\n",
    "- `Marketing vs Outlet Size` has strong positive correlation. Bigger outlets require more marketing as more staff would be catered for.\n",
    "- `Marketing vs Overheads` has strong negative correlation. This would mean that a fixed budget is set for any outlet: the higher the Overhead Cost, the lower the spend on Marketing.\n",
    "- `Outlet Size vs Staff Count` are fully correlated.\n",
    "- `Daily Visits` correlates highly with all but overheads. Of great interest is the almost unity correlation with marketing.\n",
    "- It's a bit strange that `Overheads` negatively correlates with other parameters."
   ]
  },
  {
   "cell_type": "markdown",
   "metadata": {},
   "source": [
    "The map shows that more features with correlation coefficient. Let's see pairs that are > 0.5"
   ]
  },
  {
   "cell_type": "code",
   "execution_count": null,
   "metadata": {},
   "outputs": [],
   "source": [
    "get_high_correlations(summary_data, threshold=0.5)"
   ]
  },
  {
   "cell_type": "markdown",
   "metadata": {},
   "source": [
    "Interpretation:\n",
    "\n",
    "- Outlets size, Staff Count, and Total Visits, and Marketing contribute to the Visits.\n",
    "- Bigger outlets tend to spend more on marketing.\n",
    "- Outlets with more staff tend to spend more on marketing.\n",
    "- Customer's presence at outlets depends `largely` on how much marketing was done.\n",
    "- Bigger outlets require more staff.\n",
    "- Outlets with more staff attract more customers\n",
    "- Bigger outlets attract more customers"
   ]
  },
  {
   "cell_type": "markdown",
   "metadata": {},
   "source": [
    "<!-- Before we proceed, new features will be added to the Summary dataframe for indept analysis. They are:\n",
    "\n",
    "- Spend Efficiency: Total Customer Visits to Outlet Per Total Spend:\n",
    "\n",
    "    $$\n",
    "    SpendReturns = \\frac{Total Customer Visits }{Marketing Spend(£)}{*100}\n",
    "    $$\n",
    " -->\n"
   ]
  },
  {
   "cell_type": "markdown",
   "metadata": {},
   "source": [
    "<!--  -->"
   ]
  },
  {
   "cell_type": "markdown",
   "metadata": {},
   "source": [
    "<!--  -->"
   ]
  },
  {
   "cell_type": "markdown",
   "metadata": {},
   "source": [
    "### **Summary Data For High Volume Outlets**"
   ]
  },
  {
   "cell_type": "markdown",
   "metadata": {},
   "source": [
    "Let's define the summary data for high volume. \n",
    "\n",
    "The modified summary data will be used."
   ]
  },
  {
   "cell_type": "code",
   "execution_count": null,
   "metadata": {},
   "outputs": [],
   "source": [
    "summary_high = summary_data.loc[high_volumes]\n",
    "summary_high"
   ]
  },
  {
   "cell_type": "code",
   "execution_count": null,
   "metadata": {},
   "outputs": [],
   "source": [
    "def scale_by_max(data):\n",
    "    return data/data.max()\n",
    "\n",
    "\n",
    "def visualize_heatmap(data: pd.DataFrame, width:int=700, height:int=400, title='Heatmap of data'):\n",
    "    '''\n",
    "    \\nFunction plots a heatmap of data.\\n\n",
    "    \\nParameters\\n\n",
    "    data: Pandas dataframe\n",
    "    size: figure size\n",
    "    title: title of figure\n",
    "    '''\n",
    "    corr = data.corr()\n",
    "    ax = corr.hvplot.heatmap(title=title, cmap='coolwarm',\n",
    "                             width=700, height=400,)\n",
    "    return ax\n",
    "\n",
    "bubbles = []\n",
    "\n",
    "def summary_scatter3d_plot(data: pd.DataFrame, segment: list, factor: int=500):\n",
    "    '''\n",
    "    Works only summary data\n",
    "\n",
    "    Parameters:\n",
    "    data: Pandas Dataframe\n",
    "    segment: list of segmented outlets\n",
    "    factor: factor to resize bubble\n",
    "    '''\n",
    "    \n",
    "    title=''\n",
    "    if segment == high_volumes:\n",
    "        title = '3D Scatter Summary Plot for High Volume Outlets with scaled TotalVisit\\n'+\\\n",
    "                                     'as the Third Dimension'\n",
    "    else:\n",
    "        title = '3D Scatter Summary Plot for Medium Volume Outlets with scaled TotalVisit\\n'+\\\n",
    "                                     'as the Third Dimension'\n",
    "    newplot = pd.DataFrame({'x': np.zeros(5), 'y': np.zeros(5)}).hvplot(kind='scatter', x='x', y='y',\n",
    "                                                                        xlabel='Feature X', ylabel='Feature Y',\n",
    "                                                                        alpha=0)\n",
    "\n",
    "    selected = data.columns\n",
    "    for i, name_i in enumerate(selected):\n",
    "        for j in range(i + 1, len(selected)):\n",
    "            name_j = selected[j]\n",
    "            bubble_size = (data.TotalVisit[i]/factor).astype('int')\n",
    "            newplot *= scale_by_max(data.loc[segment]).hvplot(kind='scatter', x=name_i, y=name_j,\n",
    "                              frame_width=600, frame_height=500, \n",
    "                              title=title,\n",
    "                              label=f'{name_i} vs {name_j}',\n",
    "                              alpha=.8, size=bubble_size)\n",
    "            # plots.append(plot)\n",
    "    return newplot.opts(legend_position='right')\n"
   ]
  },
  {
   "cell_type": "code",
   "execution_count": null,
   "metadata": {
    "scrolled": false
   },
   "outputs": [],
   "source": [
    "summary_scatter3d_plot(summary_data, medium_volumes)"
   ]
  },
  {
   "cell_type": "markdown",
   "metadata": {},
   "source": [
    "**Observation**\n",
    "\n",
    "- Outlet size and Staff Strength have more to do with total visits.\n",
    "\n",
    "- Marketing vs Visits plots are most clustered. Shows highest correlation."
   ]
  },
  {
   "cell_type": "markdown",
   "metadata": {},
   "source": [
    "### Radar Plot for High Volume\n"
   ]
  },
  {
   "cell_type": "markdown",
   "metadata": {},
   "source": [
    "Radar Plot Structure\n",
    "- Categories that ChrisCo might want to maximize are placed on the upper half of the plot.\n",
    "- Categories to minimize are on the lower half of the plot."
   ]
  },
  {
   "cell_type": "code",
   "execution_count": null,
   "metadata": {
    "scrolled": false
   },
   "outputs": [],
   "source": [
    "visualize_radar_plot_for(high_volumes, data=summary_data)"
   ]
  },
  {
   "cell_type": "markdown",
   "metadata": {},
   "source": [
    "#### Observations: High Volumes Radar Plots\n",
    "\n",
    ">RFY\n",
    "- This outlet recorded the highest customer visit in 2021, with the biggest outlet size, marketing spend, but least in staff strength and overhead cost.\n",
    "\n",
    ">DMN\n",
    "- This outlet spent least on marketing but so much on overheads, staff strength is relatively low.\n",
    "\n",
    ">RAN\n",
    "- RAN came behind DMN in overheads, just a little behind RFY in marketing. Largest staff count with the lowest visit.\n"
   ]
  },
  {
   "cell_type": "markdown",
   "metadata": {},
   "source": [
    "<!--  -->"
   ]
  },
  {
   "cell_type": "markdown",
   "metadata": {},
   "source": [
    "Let's explore high volume outlets for metrics"
   ]
  },
  {
   "cell_type": "markdown",
   "metadata": {},
   "source": [
    "Interactive Plot for Medium Volumne"
   ]
  },
  {
   "cell_type": "markdown",
   "metadata": {},
   "source": [
    "### Summary Data for Medium Volumes"
   ]
  },
  {
   "cell_type": "code",
   "execution_count": null,
   "metadata": {},
   "outputs": [],
   "source": [
    "totals = summary.sum().plot(kind='barh', title='Sum of Features Across Outlets for Summary Data', ylabel='Features')\n",
    "totals.bar_label(totals.containers[0], fmt='%.0f');"
   ]
  },
  {
   "cell_type": "markdown",
   "metadata": {},
   "source": [
    "**Observations**\n",
    "- ChrsiCo budget for 2021 was £2,817,000.\n",
    "\n",
    "- Every £ on Markting made 9 visits."
   ]
  },
  {
   "cell_type": "code",
   "execution_count": null,
   "metadata": {},
   "outputs": [],
   "source": [
    "summary_scatter3d_plot(summary_data, medium_volumes)"
   ]
  },
  {
   "cell_type": "markdown",
   "metadata": {},
   "source": [
    "### DashBoard"
   ]
  },
  {
   "cell_type": "markdown",
   "metadata": {},
   "source": [
    "The dashboard will contain the dailycustomer visits and the summary data and both will be binded by events."
   ]
  },
  {
   "cell_type": "code",
   "execution_count": null,
   "metadata": {
    "scrolled": false
   },
   "outputs": [],
   "source": [
    "pan_title = '## Dashboard' # panel title\n",
    "volumes = ['High Volumes', 'Medium Volumes', 'Low Volumes', 'All Volumes'] # segments of outlets\n",
    "all_outlets = list(summary_data.index) # all outlets\n",
    "\n",
    "# create widget to select daily visits volumes\n",
    "select_volumes = pn.widgets.Select(name='Select Volumes', options=volumes, width=128)\n",
    "\n",
    "# create widget to select sumary data features\n",
    "parameter_x = pn.widgets.Select(name='Feature X', options=list(summary_data.columns), width=128)\n",
    "parameter_y = pn.widgets.Select(name='Feature Y', options=list(summary_data.columns), width=128)\n",
    "\n",
    "# create widget to select period\n",
    "period = pn.widgets.Select(name='Select Period', options=list([1, 7, 14, 28]), value=7, width=80)\n",
    "\n",
    "\n",
    "# define function to return svalues for volumes\n",
    "def get_volume():\n",
    "    if select_volumes.value == 'High Volumes':\n",
    "        return high_volumes\n",
    "    elif select_volumes.value == 'Medium Volumes':\n",
    "        return medium_volumes\n",
    "    elif select_volumes == 'Low Volumes':\n",
    "        return low_volumes\n",
    "    else:\n",
    "        return all_outlets\n",
    "#     return segment\n",
    "\n",
    "\n",
    "# define function to plot scatterplot\n",
    "def plot_scatter(segment, x, y):\n",
    "    segment = get_volume()\n",
    "    corr = summary_data.corr() # get correlation\n",
    "    factor = size = (summary_data['TotalVisit']*10/summary_data['Marketing (£)']).astype('int')\n",
    "    return (summary_data.loc[segment]).hvplot.scatter(x, y, frame_width=300,\n",
    "                           cmap='coolwarm', color=parameter_x.value,\n",
    "                           size=factor,\n",
    "                           title=f'{select_volumes.value}: {x} vs {y}\\ncorrelation: {corr.loc[x,y]:.2f}')\n",
    "\n",
    "\n",
    "# define function to plot lines\n",
    "def plot_line(segment, period):\n",
    "    segment = get_volume() # get segment of outlets\n",
    "    moving_average = daily_customers[segment].rolling(window=period).mean() #rolling mean\n",
    "    return moving_average.hvplot(title=f'Moving Average for {select_volumes.value} at period {period}',\n",
    "                                 frame_width=350)\n",
    "\n",
    "\n",
    "# define function to combine plots\n",
    "def display_plots(segment, period, x, y):\n",
    "    return plot_line(segment, period) + plot_scatter(segment, x, y)\n",
    "\n",
    "\n",
    "interact(display_plots, segment=select_volumes, period=period,x=parameter_x, y=parameter_y)"
   ]
  },
  {
   "cell_type": "markdown",
   "metadata": {},
   "source": [
    "**Description**\n",
    "\n",
    "Moving Average Plot\n",
    "- This shows the moving average the over a selected period for a segment of the outlets in daily customer's data\n",
    "\n",
    "Scatter Plot\n",
    "- This shows the correlation of the features of the summary data"
   ]
  }
 ],
 "metadata": {
  "colab": {
   "authorship_tag": "ABX9TyN5sBzOopSJUZNoeIbW86Xt",
   "provenance": []
  },
  "kernelspec": {
   "display_name": "Python 3 (ipykernel)",
   "language": "python",
   "name": "python3"
  },
  "language_info": {
   "codemirror_mode": {
    "name": "ipython",
    "version": 3
   },
   "file_extension": ".py",
   "mimetype": "text/x-python",
   "name": "python",
   "nbconvert_exporter": "python",
   "pygments_lexer": "ipython3",
   "version": "3.9.13"
  }
 },
 "nbformat": 4,
 "nbformat_minor": 1
}
